{
 "cells": [
  {
   "cell_type": "code",
   "execution_count": 1,
   "metadata": {},
   "outputs": [],
   "source": [
    "import json\n",
    "import mysql.connector\n",
    "\n",
    "from mysql.connector import Error"
   ]
  },
  {
   "cell_type": "code",
   "execution_count": 16,
   "metadata": {},
   "outputs": [
    {
     "name": "stdout",
     "output_type": "stream",
     "text": [
      "Соединение с базой данных успешно установлено.\n"
     ]
    }
   ],
   "source": [
    "def create_connection(config):\n",
    "    try:\n",
    "        connection = mysql.connector.connect(**config)\n",
    "        if connection.is_connected():\n",
    "            print(\"Соединение с базой данных успешно установлено.\")\n",
    "        return connection\n",
    "    except Error as e:\n",
    "        print(f\"Ошибка подключения: {e}\")\n",
    "        return None\n",
    "    \n",
    "with open(\"params.json\") as f:\n",
    "    dict_conn = json.load(f)\n",
    "\n",
    "connection = create_connection(dict_conn)"
   ]
  },
  {
   "cell_type": "code",
   "execution_count": 17,
   "metadata": {},
   "outputs": [],
   "source": [
    "def query_experience_ten_years(connection, n):\n",
    "    \"\"\"Запрос информации о врачах со стажем работы не меньше N лет\"\"\"\n",
    "    try:\n",
    "        cursor = connection.cursor(prepared=True)\n",
    "        query = \"\"\"\n",
    "            SELECT first_name, \n",
    "                    last_name, \n",
    "                    YEAR(CURDATE()) - YEAR(employment_date)\n",
    "            FROM doctors\n",
    "            WHERE YEAR(CURDATE()) - YEAR(employment_date) >= ?;\n",
    "        \"\"\"\n",
    "        cursor.execute(query, (n,))\n",
    "        result = cursor.fetchall()\n",
    "        print(f\"Врачи со стажем не менее {n} лет:\")\n",
    "        for row in result:\n",
    "            print(row)\n",
    "    except Error as e:\n",
    "        print(f\"Ошибка выполнения запроса: {e}\")"
   ]
  },
  {
   "cell_type": "code",
   "execution_count": 19,
   "metadata": {},
   "outputs": [
    {
     "name": "stdout",
     "output_type": "stream",
     "text": [
      "Врачи со стажем не менее 5 лет:\n",
      "('Петр', 'Петров', 9)\n",
      "('Анна', 'Смирнова', 6)\n",
      "('Петр', 'Петров', 9)\n",
      "('Петр', 'Петров', 9)\n"
     ]
    }
   ],
   "source": [
    "# Задание 1: Врачи со стажем работы >= N лет\n",
    "query_experience_ten_years(connection, 5)"
   ]
  },
  {
   "cell_type": "code",
   "execution_count": 20,
   "metadata": {},
   "outputs": [],
   "source": [
    "def query_patients_by_doctor(connection, doctor_first_name, doctor_last_name):\n",
    "    \"\"\"Запрос информации о пациентах, записанных на прием к указанному врачу\"\"\"\n",
    "    try:\n",
    "        cursor = connection.cursor(prepared=True)\n",
    "        query = \"\"\"\n",
    "            SELECT p.first_name, p.last_name\n",
    "            FROM patients p\n",
    "            INNER JOIN appointment a ON p.patient_id = a.patient_id\n",
    "            INNER JOIN doctors d ON a.doctor_id = d.doctor_id\n",
    "            WHERE d.first_name = ? AND d.last_name = ?\n",
    "            ORDER BY p.last_name, p.first_name;\n",
    "        \"\"\"\n",
    "        cursor.execute(query, (doctor_first_name, doctor_last_name))\n",
    "        result = cursor.fetchall()\n",
    "        print(f\"Пациенты врача {doctor_first_name} {doctor_last_name}:\")\n",
    "        for row in result:\n",
    "            print(*row)\n",
    "    except Error as e:\n",
    "        print(f\"Ошибка выполнения запроса: {e}\")"
   ]
  },
  {
   "cell_type": "code",
   "execution_count": 21,
   "metadata": {},
   "outputs": [
    {
     "name": "stdout",
     "output_type": "stream",
     "text": [
      "Пациенты врача  :\n"
     ]
    }
   ],
   "source": [
    "# Задание 2: Пациенты врача с пользовательским вводом\n",
    "\n",
    "#Анна Смирнова\n",
    "\n",
    "doctor_first_name = input(\"Введите имя врача: \")\n",
    "doctor_last_name = input(\"Введите фамилию врача: \")\n",
    "query_patients_by_doctor(connection, doctor_first_name, doctor_last_name)"
   ]
  },
  {
   "cell_type": "code",
   "execution_count": 7,
   "metadata": {},
   "outputs": [],
   "source": [
    "def query_healthy_patients(connection):\n",
    "    \"\"\"Запрос информации о пациентах со статусом 'здоров'\"\"\"\n",
    "    try:\n",
    "        cursor = connection.cursor(prepared=True)\n",
    "        query = \"\"\"\n",
    "            SELECT first_name, last_name\n",
    "            FROM patients p\n",
    "            INNER JOIN appointment a ON p.patient_id = a.patient_id\n",
    "            WHERE a.status = 'здоров';\n",
    "        \"\"\"\n",
    "        cursor.execute(query)\n",
    "        result = cursor.fetchall()\n",
    "        print(\"Здоровые пациенты:\")\n",
    "        for row in result:\n",
    "            print(row)\n",
    "    except Error as e:\n",
    "        print(f\"Ошибка выполнения запроса: {e}\")"
   ]
  },
  {
   "cell_type": "code",
   "execution_count": 8,
   "metadata": {},
   "outputs": [
    {
     "name": "stdout",
     "output_type": "stream",
     "text": [
      "Здоровые пациенты:\n",
      "('Иван', 'Иванов')\n",
      "('Иван', 'Иванов')\n",
      "('Иван', 'Иванов')\n"
     ]
    }
   ],
   "source": [
    "# Задание 3: Здоровые пациенты\n",
    "query_healthy_patients(connection)"
   ]
  },
  {
   "cell_type": "code",
   "execution_count": 9,
   "metadata": {},
   "outputs": [],
   "source": [
    "def query_appointments_by_doctors(connection, date_1, date_2):\n",
    "    \"\"\"Запрос информации о количестве приемов пациентов по врачам за интервал date_1 - date_2\"\"\"\n",
    "    try:\n",
    "        cursor = connection.cursor(prepared=True)\n",
    "        query = \"\"\"\n",
    "            SELECT \n",
    "                d.first_name, \n",
    "                d.last_name, \n",
    "                COUNT(a.appointment_id) AS count\n",
    "            FROM \n",
    "                doctors AS d\n",
    "            LEFT JOIN \n",
    "                appointment AS a ON d.doctor_id = a.doctor_id\n",
    "                AND a.start_date >= ?\n",
    "                AND a.start_date < ?\n",
    "            GROUP BY \n",
    "                d.first_name, \n",
    "                d.last_name;\n",
    "        \"\"\"\n",
    "        cursor.execute(query, (date_1, date_2))\n",
    "        result = cursor.fetchall()\n",
    "        print(f\"Количество приемов пациентов по врачам {date_1} - {date_2}\")\n",
    "        for row in result:\n",
    "            print(row)\n",
    "    except Error as e:\n",
    "        print(f\"Ошибка выполнения запроса: {e}\")"
   ]
  },
  {
   "cell_type": "code",
   "execution_count": 10,
   "metadata": {},
   "outputs": [
    {
     "name": "stdout",
     "output_type": "stream",
     "text": [
      "Количество приемов пациентов по врачам 2023-01-01 - 2023-02-01\n",
      "('Петр', 'Петров', 0)\n",
      "('Анна', 'Смирнова', 0)\n"
     ]
    }
   ],
   "source": [
    "# Задание 4: Количество приемов пациентов по врачам за (date1 - date2)\n",
    "query_appointments_by_doctors(connection, '2023-01-01', '2023-02-01')"
   ]
  },
  {
   "cell_type": "code",
   "execution_count": 11,
   "metadata": {},
   "outputs": [],
   "source": [
    "def query_top_specializations(connection):\n",
    "    \"\"\"Запрос топ 3 наиболее востребованных специализаций врачей среди пациентов\"\"\"\n",
    "    try:\n",
    "        cursor = connection.cursor(prepared=True)\n",
    "        query = \"\"\"\n",
    "            SELECT \n",
    "                s.title AS specialization, \n",
    "                COUNT(a.appointment_id) AS count\n",
    "            FROM \n",
    "                specializations AS s\n",
    "            JOIN \n",
    "                doctors AS d ON s.specialization_id = d.specialization_id\n",
    "            JOIN \n",
    "                appointment AS a ON d.doctor_id = a.doctor_id\n",
    "            GROUP BY \n",
    "                s.title\n",
    "            ORDER BY \n",
    "                count DESC\n",
    "            LIMIT 3;\n",
    "        \"\"\"\n",
    "        cursor.execute(query)\n",
    "        result = cursor.fetchall()\n",
    "        print(\"Топ 3 наиболее востребованных специализаций врачей:\")\n",
    "        for row in result:\n",
    "            print(row)\n",
    "    except Error as e:\n",
    "        print(f\"Ошибка выполнения запроса: {e}\")"
   ]
  },
  {
   "cell_type": "code",
   "execution_count": 12,
   "metadata": {},
   "outputs": [
    {
     "name": "stdout",
     "output_type": "stream",
     "text": [
      "Топ 3 наиболее востребованных специализаций врачей:\n",
      "('Хирург', 4)\n",
      "('lor', 3)\n"
     ]
    }
   ],
   "source": [
    "# Задание 5: Топ 3 востребованных специализаций\n",
    "query_top_specializations(connection)"
   ]
  },
  {
   "cell_type": "code",
   "execution_count": 13,
   "metadata": {},
   "outputs": [],
   "source": [
    "def query_patients_over_30_multiple_doctors(connection):\n",
    "    \"\"\"Запрос информации о пациентах старше 30 лет, которые записывались на прием к нескольким врачам\"\"\"\n",
    "    try:\n",
    "        cursor = connection.cursor(prepared=True)\n",
    "        query = \"\"\"\n",
    "            SELECT \n",
    "                p.first_name, \n",
    "                p.last_name, \n",
    "                p.birthday, \n",
    "                COUNT(a.appointment_id) AS count\n",
    "            FROM \n",
    "                patients AS p\n",
    "            JOIN \n",
    "                appointment AS a ON p.patient_id = a.patient_id\n",
    "            WHERE \n",
    "                TIMESTAMPDIFF(YEAR, p.birthday, CURDATE()) > 30\n",
    "            GROUP BY \n",
    "                p.patient_id\n",
    "            HAVING \n",
    "                COUNT(DISTINCT a.doctor_id) > 1\n",
    "            ORDER BY \n",
    "                p.birthday;\n",
    "        \"\"\"\n",
    "        cursor.execute(query)\n",
    "        result = cursor.fetchall()\n",
    "        print(\"Пациенты старше 30 лет, записывавшиеся к нескольким врачам:\")\n",
    "        for row in result:\n",
    "            print(row)\n",
    "    except Error as e:\n",
    "        print(f\"Ошибка выполнения запроса: {e}\")"
   ]
  },
  {
   "cell_type": "code",
   "execution_count": 14,
   "metadata": {},
   "outputs": [
    {
     "name": "stdout",
     "output_type": "stream",
     "text": [
      "Пациенты старше 30 лет, записывавшиеся к нескольким врачам:\n",
      "('Иван', 'Иванов', datetime.date(1990, 5, 15), 4)\n"
     ]
    }
   ],
   "source": [
    "# Задание 6: Пациенты старше 30 лет, посещавшие нескольких врачей\n",
    "query_patients_over_30_multiple_doctors(connection)"
   ]
  },
  {
   "cell_type": "code",
   "execution_count": 15,
   "metadata": {},
   "outputs": [],
   "source": [
    "connection.close()"
   ]
  },
  {
   "cell_type": "code",
   "execution_count": null,
   "metadata": {},
   "outputs": [],
   "source": []
  }
 ],
 "metadata": {
  "kernelspec": {
   "display_name": "Python 3",
   "language": "python",
   "name": "python3"
  },
  "language_info": {
   "codemirror_mode": {
    "name": "ipython",
    "version": 3
   },
   "file_extension": ".py",
   "mimetype": "text/x-python",
   "name": "python",
   "nbconvert_exporter": "python",
   "pygments_lexer": "ipython3",
   "version": "3.11.9"
  }
 },
 "nbformat": 4,
 "nbformat_minor": 2
}
