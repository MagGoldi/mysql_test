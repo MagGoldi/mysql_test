{
 "cells": [
  {
   "cell_type": "code",
   "execution_count": 1,
   "metadata": {},
   "outputs": [],
   "source": [
    "import json\n",
    "import mysql.connector\n",
    "\n",
    "from mysql.connector import Error"
   ]
  },
  {
   "cell_type": "code",
   "execution_count": 4,
   "metadata": {},
   "outputs": [
    {
     "name": "stdout",
     "output_type": "stream",
     "text": [
      "Соединение с базой данных успешно установлено.\n"
     ]
    }
   ],
   "source": [
    "def create_connection(config):\n",
    "    try:\n",
    "        connection = mysql.connector.connect(**config)\n",
    "        if connection.is_connected():\n",
    "            print(\"Соединение с базой данных успешно установлено.\")\n",
    "        return connection\n",
    "    except Error as e:\n",
    "        print(f\"Ошибка подключения: {e}\")\n",
    "        return None\n",
    "    \n",
    "with open(\"params.json\") as f:\n",
    "    dict_conn = json.load(f)\n",
    "\n",
    "connection = create_connection(dict_conn)"
   ]
  },
  {
   "cell_type": "markdown",
   "metadata": {},
   "source": [
    "### Запрос 1\n",
    "Вывести информацию обо всех деревьях общепринятого названия вида \"Дуб\" в парке \"Центральный парк\". В запросе вывести общепринятое название, научное название вида, дату посадки."
   ]
  },
  {
   "cell_type": "code",
   "execution_count": 5,
   "metadata": {},
   "outputs": [],
   "source": [
    "def query_trees_by_species_and_park(connection, species_name, park_name):\n",
    "    \"\"\"Запрос деревьев указанного вида в определенном парке\"\"\"\n",
    "    try:\n",
    "        cursor = connection.cursor(prepared=False)\n",
    "        query = \"\"\"\n",
    "            SELECT ts.common_name, ts.scientific_name, t.planting_date\n",
    "            FROM trees t\n",
    "            JOIN tree_species ts ON t.species_id = ts.species_id\n",
    "            JOIN parks p ON t.park_id = p.park_id\n",
    "            WHERE ts.common_name = ? AND p.name = ?;\n",
    "        \"\"\"\n",
    "        cursor.execute(query, (species_name, park_name))\n",
    "        result = cursor.fetchall()\n",
    "        print(f\"Деревья вида '{species_name}' в '{park_name}':\")\n",
    "        for row in result:\n",
    "            print(row)\n",
    "    except Error as e:\n",
    "        print(f\"Ошибка выполнения запроса: {e}\")"
   ]
  },
  {
   "cell_type": "code",
   "execution_count": 6,
   "metadata": {},
   "outputs": [
    {
     "name": "stdout",
     "output_type": "stream",
     "text": [
      "Ошибка выполнения запроса: Not all parameters were used in the SQL statement\n"
     ]
    }
   ],
   "source": [
    "query_trees_by_species_and_park(connection, 'Oak', 'Central Park')"
   ]
  },
  {
   "cell_type": "markdown",
   "metadata": {},
   "source": [
    "### Запрос 2\n",
    "Вывести информацию о волонтерах, ухаживающих за деревьями, включая количество выполненных работ по уходу за деревьями. Если волонтер не выполнял работ - вывести 0. В запросе вывести имя волонтера, фамилию, телефон, количество выполненных работ (столбец назвать count)."
   ]
  },
  {
   "cell_type": "code",
   "execution_count": 6,
   "metadata": {},
   "outputs": [],
   "source": [
    "def query_volunteers_maintenance_count(connection):\n",
    "    \"\"\"Запрос количества работ, выполненных волонтерами\"\"\"\n",
    "    try:\n",
    "        cursor = connection.cursor()\n",
    "        query = \"\"\"\n",
    "            SELECT v.first_name, v.last_name, v.phone, COUNT(m.maintenance_id) AS count\n",
    "            FROM volunteers v\n",
    "            LEFT JOIN maintenance m ON v.volunteer_id = m.volunteer_id\n",
    "            GROUP BY v.volunteer_id;\n",
    "        \"\"\"\n",
    "        cursor.execute(query)\n",
    "        result = cursor.fetchall()\n",
    "        print(\"Волонтеры и количество их работ:\")\n",
    "        for row in result:\n",
    "            print(row)\n",
    "    except Error as e:\n",
    "        print(f\"Ошибка выполнения запроса: {e}\")"
   ]
  },
  {
   "cell_type": "code",
   "execution_count": 7,
   "metadata": {},
   "outputs": [
    {
     "name": "stdout",
     "output_type": "stream",
     "text": [
      "Волонтеры и количество их работ:\n",
      "('John', 'Doe', '555-1234', 3)\n",
      "('Jane', 'Smith', '555-5678', 1)\n",
      "('John', 'Doe', '+123456789', 3)\n",
      "('John', 'Doe', '+123456789', 0)\n",
      "('John', 'Doe', '+123456789', 0)\n"
     ]
    }
   ],
   "source": [
    "query_volunteers_maintenance_count(connection)"
   ]
  },
  {
   "cell_type": "markdown",
   "metadata": {},
   "source": [
    "### Запрос 3\n",
    "Для каждого парка вывести информацию о количестве деревьев каждого вида, посаженных в парке. Отсутствующие в парке виды деревьев не выводить. Упорядочить по названию парка, виду дерева. В запросе вывести название парка, общепринятое название вида, количество деревьев (столбец назвать count)."
   ]
  },
  {
   "cell_type": "code",
   "execution_count": 8,
   "metadata": {},
   "outputs": [],
   "source": [
    "\n",
    "def query_tree_count_by_park_and_species(connection):\n",
    "    \"\"\"Запрос количества деревьев по паркам и видам\"\"\"\n",
    "    try:\n",
    "        cursor = connection.cursor()\n",
    "        query = \"\"\"\n",
    "            SELECT p.name AS park_name, ts.common_name, COUNT(t.tree_id) AS count\n",
    "            FROM trees t\n",
    "            JOIN parks p ON t.park_id = p.park_id\n",
    "            JOIN tree_species ts ON t.species_id = ts.species_id\n",
    "            GROUP BY p.name, ts.common_name\n",
    "            ORDER BY p.name, ts.common_name;\n",
    "        \"\"\"\n",
    "        cursor.execute(query)\n",
    "        result = cursor.fetchall()\n",
    "        print(\"Количество деревьев по паркам и видам:\")\n",
    "        for row in result:\n",
    "            print(row)\n",
    "    except Error as e:\n",
    "        print(f\"Ошибка выполнения запроса: {e}\")"
   ]
  },
  {
   "cell_type": "code",
   "execution_count": 9,
   "metadata": {},
   "outputs": [
    {
     "name": "stdout",
     "output_type": "stream",
     "text": [
      "Количество деревьев по паркам и видам:\n",
      "('Central Park', 'Oak', 5)\n"
     ]
    }
   ],
   "source": [
    "query_tree_count_by_park_and_species(connection)"
   ]
  },
  {
   "cell_type": "markdown",
   "metadata": {},
   "source": [
    "### Запрос 4\n",
    "Вывести информацию обо всех волонтерах, выполнивших больше 5 работ, упорядочить по фамилии, имени. В запросе вывести столбцы: имя волонтера, фамилия, количество выполненных работ (столбец назвать count)."
   ]
  },
  {
   "cell_type": "code",
   "execution_count": 10,
   "metadata": {},
   "outputs": [],
   "source": [
    "def query_active_volunteers(connection, min_count):\n",
    "    \"\"\"Запрос волонтеров с количеством работ больше указанного значения\"\"\"\n",
    "    try:\n",
    "        cursor = connection.cursor(prepared=True)\n",
    "        query = \"\"\"\n",
    "            SELECT v.first_name, v.last_name, COUNT(m.maintenance_id) AS count\n",
    "            FROM volunteers v\n",
    "            JOIN maintenance m ON v.volunteer_id = m.volunteer_id\n",
    "            GROUP BY v.volunteer_id\n",
    "            HAVING COUNT(m.maintenance_id) > ?\n",
    "            ORDER BY v.last_name, v.first_name;\n",
    "        \"\"\"\n",
    "        cursor.execute(query, (min_count,))\n",
    "        result = cursor.fetchall()\n",
    "        print(f\"Волонтеры с количеством работ больше {min_count}:\")\n",
    "        for row in result:\n",
    "            print(row)\n",
    "    except Error as e:\n",
    "        print(f\"Ошибка выполнения запроса: {e}\")"
   ]
  },
  {
   "cell_type": "code",
   "execution_count": 11,
   "metadata": {},
   "outputs": [
    {
     "name": "stdout",
     "output_type": "stream",
     "text": [
      "Волонтеры с количеством работ больше 1:\n",
      "('John', 'Doe', 3)\n",
      "('John', 'Doe', 3)\n"
     ]
    }
   ],
   "source": [
    "query_active_volunteers(connection, 1)"
   ]
  },
  {
   "cell_type": "markdown",
   "metadata": {},
   "source": [
    "### Запрос 5\n",
    "Вывести список парков, в которых посажено максимальное число деревьев. В запросе вывести идентификатор парка, название парка."
   ]
  },
  {
   "cell_type": "code",
   "execution_count": 12,
   "metadata": {},
   "outputs": [],
   "source": [
    "\n",
    "def query_park_with_max_trees(connection):\n",
    "    \"\"\"Запрос парка с максимальным количеством деревьев\"\"\"\n",
    "    try:\n",
    "        cursor = connection.cursor()\n",
    "        query = \"\"\"\n",
    "            WITH TreeCount AS (\n",
    "                SELECT park_id, COUNT(tree_id) AS tree_count\n",
    "                FROM trees\n",
    "                GROUP BY park_id\n",
    "            )\n",
    "            SELECT p.park_id, p.name\n",
    "            FROM parks p\n",
    "            JOIN TreeCount tc ON p.park_id = tc.park_id\n",
    "            WHERE tc.tree_count = (SELECT MAX(tree_count) FROM TreeCount);\n",
    "        \"\"\"\n",
    "        cursor.execute(query)\n",
    "        result = cursor.fetchall()\n",
    "        print(\"Парк с максимальным количеством деревьев:\")\n",
    "        for row in result:\n",
    "            print(row)\n",
    "    except Error as e:\n",
    "        print(f\"Ошибка выполнения запроса: {e}\")"
   ]
  },
  {
   "cell_type": "code",
   "execution_count": 13,
   "metadata": {},
   "outputs": [
    {
     "name": "stdout",
     "output_type": "stream",
     "text": [
      "Парк с максимальным количеством деревьев:\n",
      "(1, 'Central Park')\n"
     ]
    }
   ],
   "source": [
    "query_park_with_max_trees(connection)"
   ]
  },
  {
   "cell_type": "markdown",
   "metadata": {},
   "source": [
    "### Запрос 6\n",
    "Посчитать количество проведенных в 2024 году работ по уходу за деревьями для каждого парка (учесть парки, в которых работ не проводилось). Вывести информацию о статистике проведенных работ. В запросе вывести минимальное (столбец назвать min), среднее (avg) и максимальное (max) количество проведенных работ (результат запроса - одна строка)."
   ]
  },
  {
   "cell_type": "code",
   "execution_count": 14,
   "metadata": {},
   "outputs": [],
   "source": [
    "def query_work_statistics_2024(connection):\n",
    "    \"\"\"Статистика работ по паркам за 2024 год\"\"\"\n",
    "    try:\n",
    "        cursor = connection.cursor()\n",
    "        query = \"\"\"\n",
    "            WITH park_work_counts AS (\n",
    "                SELECT\n",
    "                    p.park_id,\n",
    "                    COUNT(m.maintenance_id) AS work_count\n",
    "                FROM parks p\n",
    "                LEFT JOIN trees t ON p.park_id = t.park_id\n",
    "                LEFT JOIN maintenance m ON t.tree_id = m.tree_id AND YEAR(m.maintenance_date) = 2023\n",
    "                GROUP BY p.park_id\n",
    "            )\n",
    "            SELECT\n",
    "                MIN(work_count) AS min,\n",
    "                AVG(work_count) AS avg,\n",
    "                MAX(work_count) AS max\n",
    "            FROM park_work_counts;\n",
    "        \"\"\"\n",
    "        cursor.execute(query)\n",
    "        result = cursor.fetchall()\n",
    "        print(\"Статистика работ по паркам за 2024 год:\")\n",
    "        for row in result:\n",
    "            print(row)\n",
    "    except Error as e:\n",
    "        print(f\"Ошибка выполнения запроса: {e}\")"
   ]
  },
  {
   "cell_type": "code",
   "execution_count": 15,
   "metadata": {},
   "outputs": [
    {
     "name": "stdout",
     "output_type": "stream",
     "text": [
      "Статистика работ по паркам за 2024 год:\n",
      "(0, Decimal('0.2857'), 1)\n"
     ]
    }
   ],
   "source": [
    "query_work_statistics_2024(connection)"
   ]
  },
  {
   "cell_type": "code",
   "execution_count": 16,
   "metadata": {},
   "outputs": [
    {
     "name": "stdout",
     "output_type": "stream",
     "text": [
      "Соединение с базой данных закрыто.\n"
     ]
    }
   ],
   "source": [
    "if connection.is_connected():\n",
    "    connection.close()\n",
    "    print(\"Соединение с базой данных закрыто.\")"
   ]
  }
 ],
 "metadata": {
  "kernelspec": {
   "display_name": "Python 3",
   "language": "python",
   "name": "python3"
  },
  "language_info": {
   "codemirror_mode": {
    "name": "ipython",
    "version": 3
   },
   "file_extension": ".py",
   "mimetype": "text/x-python",
   "name": "python",
   "nbconvert_exporter": "python",
   "pygments_lexer": "ipython3",
   "version": "3.11.9"
  }
 },
 "nbformat": 4,
 "nbformat_minor": 2
}
