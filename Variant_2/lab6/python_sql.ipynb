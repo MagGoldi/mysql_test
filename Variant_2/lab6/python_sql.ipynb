{
 "cells": [
  {
   "cell_type": "code",
   "execution_count": 1,
   "metadata": {},
   "outputs": [],
   "source": [
    "import time\n",
    "import pandas as pd\n",
    "from sqlalchemy import create_engine, text"
   ]
  },
  {
   "cell_type": "code",
   "execution_count": 2,
   "metadata": {},
   "outputs": [],
   "source": [
    "username = 'root'\n",
    "password = '1234'\n",
    "host = 'localhost'\n",
    "port = '3306'\n",
    "database = 'discogs'\n",
    "\n",
    "connection_string = f'mysql+pymysql://{username}:{password}@{host}:{port}/{database}'\n",
    "engine = create_engine(connection_string)"
   ]
  },
  {
   "cell_type": "code",
   "execution_count": 11,
   "metadata": {},
   "outputs": [],
   "source": [
    "def get_df(select_code):\n",
    "    try:\n",
    "        start_time = time.time()\n",
    "        df = pd.read_sql(select_code, con=engine)\n",
    "        end_time = time.time()\n",
    "        \n",
    "        execution_time = end_time - start_time\n",
    "        print(f\"Время выполнения запроса: {execution_time:.4f} секунд\")\n",
    "    except Exception as e:\n",
    "        print(f\"Ошибка: {e}\") \n",
    "    return df"
   ]
  },
  {
   "cell_type": "code",
   "execution_count": 12,
   "metadata": {},
   "outputs": [],
   "source": [
    "def get_query_db(query):\n",
    "    try:\n",
    "        with engine.connect() as connection:\n",
    "            start_time = time.time()\n",
    "            result = connection.execute(query)\n",
    "            end_time = time.time()\n",
    "            \n",
    "            execution_time = end_time - start_time\n",
    "            print(f\"Время выполнения запроса: {execution_time:.4f} секунд\")\n",
    "    except Exception as e:\n",
    "        print(f\"Ошибка: {e}\")"
   ]
  },
  {
   "cell_type": "markdown",
   "metadata": {},
   "source": [
    "--------------------------------------------------"
   ]
  },
  {
   "cell_type": "markdown",
   "metadata": {},
   "source": [
    "### Индексы 1\n",
    "Найти информацию по заданному исполнителю, используя его имя."
   ]
  },
  {
   "cell_type": "code",
   "execution_count": 18,
   "metadata": {},
   "outputs": [
    {
     "name": "stdout",
     "output_type": "stream",
     "text": [
      "Время выполнения запроса: 0.0080 секунд\n"
     ]
    },
    {
     "data": {
      "text/html": [
       "<div>\n",
       "<style scoped>\n",
       "    .dataframe tbody tr th:only-of-type {\n",
       "        vertical-align: middle;\n",
       "    }\n",
       "\n",
       "    .dataframe tbody tr th {\n",
       "        vertical-align: top;\n",
       "    }\n",
       "\n",
       "    .dataframe thead th {\n",
       "        text-align: right;\n",
       "    }\n",
       "</style>\n",
       "<table border=\"1\" class=\"dataframe\">\n",
       "  <thead>\n",
       "    <tr style=\"text-align: right;\">\n",
       "      <th></th>\n",
       "      <th>Table</th>\n",
       "      <th>Non_unique</th>\n",
       "      <th>Key_name</th>\n",
       "      <th>Seq_in_index</th>\n",
       "      <th>Column_name</th>\n",
       "      <th>Collation</th>\n",
       "      <th>Cardinality</th>\n",
       "      <th>Sub_part</th>\n",
       "      <th>Packed</th>\n",
       "      <th>Null</th>\n",
       "      <th>Index_type</th>\n",
       "      <th>Comment</th>\n",
       "      <th>Index_comment</th>\n",
       "      <th>Visible</th>\n",
       "      <th>Expression</th>\n",
       "    </tr>\n",
       "  </thead>\n",
       "  <tbody>\n",
       "    <tr>\n",
       "      <th>0</th>\n",
       "      <td>artist</td>\n",
       "      <td>0</td>\n",
       "      <td>PRIMARY</td>\n",
       "      <td>1</td>\n",
       "      <td>ARTIST_ID</td>\n",
       "      <td>A</td>\n",
       "      <td>6291116</td>\n",
       "      <td>None</td>\n",
       "      <td>None</td>\n",
       "      <td></td>\n",
       "      <td>BTREE</td>\n",
       "      <td></td>\n",
       "      <td></td>\n",
       "      <td>YES</td>\n",
       "      <td>None</td>\n",
       "    </tr>\n",
       "    <tr>\n",
       "      <th>1</th>\n",
       "      <td>artist</td>\n",
       "      <td>1</td>\n",
       "      <td>idx_artist_id</td>\n",
       "      <td>1</td>\n",
       "      <td>ARTIST_ID</td>\n",
       "      <td>A</td>\n",
       "      <td>6291116</td>\n",
       "      <td>None</td>\n",
       "      <td>None</td>\n",
       "      <td></td>\n",
       "      <td>BTREE</td>\n",
       "      <td></td>\n",
       "      <td></td>\n",
       "      <td>YES</td>\n",
       "      <td>None</td>\n",
       "    </tr>\n",
       "    <tr>\n",
       "      <th>2</th>\n",
       "      <td>artist</td>\n",
       "      <td>1</td>\n",
       "      <td>ft_profile</td>\n",
       "      <td>1</td>\n",
       "      <td>PROFILE</td>\n",
       "      <td>None</td>\n",
       "      <td>6291116</td>\n",
       "      <td>None</td>\n",
       "      <td>None</td>\n",
       "      <td>YES</td>\n",
       "      <td>FULLTEXT</td>\n",
       "      <td></td>\n",
       "      <td></td>\n",
       "      <td>YES</td>\n",
       "      <td>None</td>\n",
       "    </tr>\n",
       "  </tbody>\n",
       "</table>\n",
       "</div>"
      ],
      "text/plain": [
       "    Table  Non_unique       Key_name  Seq_in_index Column_name Collation  \\\n",
       "0  artist           0        PRIMARY             1   ARTIST_ID         A   \n",
       "1  artist           1  idx_artist_id             1   ARTIST_ID         A   \n",
       "2  artist           1     ft_profile             1     PROFILE      None   \n",
       "\n",
       "   Cardinality Sub_part Packed Null Index_type Comment Index_comment Visible  \\\n",
       "0      6291116     None   None           BTREE                           YES   \n",
       "1      6291116     None   None           BTREE                           YES   \n",
       "2      6291116     None   None  YES   FULLTEXT                           YES   \n",
       "\n",
       "  Expression  \n",
       "0       None  \n",
       "1       None  \n",
       "2       None  "
      ]
     },
     "execution_count": 18,
     "metadata": {},
     "output_type": "execute_result"
    }
   ],
   "source": [
    "query = text(\"\"\"show indexes from artist;\"\"\")  \n",
    "df = get_df(query)\n",
    "df"
   ]
  },
  {
   "cell_type": "code",
   "execution_count": 19,
   "metadata": {},
   "outputs": [
    {
     "name": "stdout",
     "output_type": "stream",
     "text": [
      "Время выполнения запроса: 21.0082 секунд\n"
     ]
    },
    {
     "data": {
      "text/html": [
       "<div>\n",
       "<style scoped>\n",
       "    .dataframe tbody tr th:only-of-type {\n",
       "        vertical-align: middle;\n",
       "    }\n",
       "\n",
       "    .dataframe tbody tr th {\n",
       "        vertical-align: top;\n",
       "    }\n",
       "\n",
       "    .dataframe thead th {\n",
       "        text-align: right;\n",
       "    }\n",
       "</style>\n",
       "<table border=\"1\" class=\"dataframe\">\n",
       "  <thead>\n",
       "    <tr style=\"text-align: right;\">\n",
       "      <th></th>\n",
       "      <th>ARTIST_ID</th>\n",
       "      <th>NAME</th>\n",
       "      <th>REALNAME</th>\n",
       "      <th>PROFILE</th>\n",
       "      <th>DATA_QUALITY</th>\n",
       "    </tr>\n",
       "  </thead>\n",
       "  <tbody>\n",
       "    <tr>\n",
       "      <th>0</th>\n",
       "      <td>6</td>\n",
       "      <td>K.A.B.</td>\n",
       "      <td>Karl Axel Bissler</td>\n",
       "      <td></td>\n",
       "      <td>Needs Major Changes</td>\n",
       "    </tr>\n",
       "  </tbody>\n",
       "</table>\n",
       "</div>"
      ],
      "text/plain": [
       "   ARTIST_ID    NAME           REALNAME PROFILE         DATA_QUALITY\n",
       "0          6  K.A.B.  Karl Axel Bissler          Needs Major Changes"
      ]
     },
     "execution_count": 19,
     "metadata": {},
     "output_type": "execute_result"
    }
   ],
   "source": [
    "# запрос без индекса\n",
    "\n",
    "query = text(\"\"\"select * from artist \n",
    "                where name = 'K.A.B.'\"\"\")  \n",
    "get_df(query)"
   ]
  },
  {
   "cell_type": "code",
   "execution_count": 20,
   "metadata": {},
   "outputs": [
    {
     "name": "stdout",
     "output_type": "stream",
     "text": [
      "Время выполнения запроса: 66.3796 секунд\n"
     ]
    }
   ],
   "source": [
    "query = text(\"\"\"CREATE INDEX idx_artist_name ON artist (name);\"\"\")\n",
    "df = get_query_db(query)\n",
    "df"
   ]
  },
  {
   "cell_type": "code",
   "execution_count": 22,
   "metadata": {},
   "outputs": [
    {
     "name": "stdout",
     "output_type": "stream",
     "text": [
      "Время выполнения запроса: 0.0702 секунд\n"
     ]
    },
    {
     "data": {
      "text/html": [
       "<div>\n",
       "<style scoped>\n",
       "    .dataframe tbody tr th:only-of-type {\n",
       "        vertical-align: middle;\n",
       "    }\n",
       "\n",
       "    .dataframe tbody tr th {\n",
       "        vertical-align: top;\n",
       "    }\n",
       "\n",
       "    .dataframe thead th {\n",
       "        text-align: right;\n",
       "    }\n",
       "</style>\n",
       "<table border=\"1\" class=\"dataframe\">\n",
       "  <thead>\n",
       "    <tr style=\"text-align: right;\">\n",
       "      <th></th>\n",
       "      <th>ARTIST_ID</th>\n",
       "      <th>NAME</th>\n",
       "      <th>REALNAME</th>\n",
       "      <th>PROFILE</th>\n",
       "      <th>DATA_QUALITY</th>\n",
       "    </tr>\n",
       "  </thead>\n",
       "  <tbody>\n",
       "    <tr>\n",
       "      <th>0</th>\n",
       "      <td>6</td>\n",
       "      <td>K.A.B.</td>\n",
       "      <td>Karl Axel Bissler</td>\n",
       "      <td></td>\n",
       "      <td>Needs Major Changes</td>\n",
       "    </tr>\n",
       "  </tbody>\n",
       "</table>\n",
       "</div>"
      ],
      "text/plain": [
       "   ARTIST_ID    NAME           REALNAME PROFILE         DATA_QUALITY\n",
       "0          6  K.A.B.  Karl Axel Bissler          Needs Major Changes"
      ]
     },
     "execution_count": 22,
     "metadata": {},
     "output_type": "execute_result"
    }
   ],
   "source": [
    "# запрос с индесом\n",
    "query = text(\"\"\"select * from artist \n",
    "                where name = 'K.A.B.'\"\"\")  \n",
    "get_df(query)"
   ]
  },
  {
   "cell_type": "code",
   "execution_count": 17,
   "metadata": {},
   "outputs": [
    {
     "name": "stdout",
     "output_type": "stream",
     "text": [
      "Время выполнения запроса: 0.0866 секунд\n"
     ]
    }
   ],
   "source": [
    "query = text(\"\"\"drop INDEX idx_artist_name ON artist\"\"\")\n",
    "df = get_query_db(query)\n",
    "df"
   ]
  },
  {
   "cell_type": "markdown",
   "metadata": {},
   "source": [
    "-------------------\n"
   ]
  },
  {
   "cell_type": "markdown",
   "metadata": {},
   "source": [
    "### Индексы 2\n",
    "Найти всех участников указанного музыкального коллектива (по названию коллектива)."
   ]
  },
  {
   "cell_type": "code",
   "execution_count": 23,
   "metadata": {},
   "outputs": [
    {
     "name": "stdout",
     "output_type": "stream",
     "text": [
      "Время выполнения запроса: 0.0175 секунд\n"
     ]
    },
    {
     "data": {
      "text/html": [
       "<div>\n",
       "<style scoped>\n",
       "    .dataframe tbody tr th:only-of-type {\n",
       "        vertical-align: middle;\n",
       "    }\n",
       "\n",
       "    .dataframe tbody tr th {\n",
       "        vertical-align: top;\n",
       "    }\n",
       "\n",
       "    .dataframe thead th {\n",
       "        text-align: right;\n",
       "    }\n",
       "</style>\n",
       "<table border=\"1\" class=\"dataframe\">\n",
       "  <thead>\n",
       "    <tr style=\"text-align: right;\">\n",
       "      <th></th>\n",
       "      <th>Table</th>\n",
       "      <th>Non_unique</th>\n",
       "      <th>Key_name</th>\n",
       "      <th>Seq_in_index</th>\n",
       "      <th>Column_name</th>\n",
       "      <th>Collation</th>\n",
       "      <th>Cardinality</th>\n",
       "      <th>Sub_part</th>\n",
       "      <th>Packed</th>\n",
       "      <th>Null</th>\n",
       "      <th>Index_type</th>\n",
       "      <th>Comment</th>\n",
       "      <th>Index_comment</th>\n",
       "      <th>Visible</th>\n",
       "      <th>Expression</th>\n",
       "    </tr>\n",
       "  </thead>\n",
       "  <tbody>\n",
       "    <tr>\n",
       "      <th>0</th>\n",
       "      <td>group</td>\n",
       "      <td>0</td>\n",
       "      <td>PRIMARY</td>\n",
       "      <td>1</td>\n",
       "      <td>GROUP_ID</td>\n",
       "      <td>A</td>\n",
       "      <td>1285836</td>\n",
       "      <td>None</td>\n",
       "      <td>None</td>\n",
       "      <td></td>\n",
       "      <td>BTREE</td>\n",
       "      <td></td>\n",
       "      <td></td>\n",
       "      <td>YES</td>\n",
       "      <td>None</td>\n",
       "    </tr>\n",
       "  </tbody>\n",
       "</table>\n",
       "</div>"
      ],
      "text/plain": [
       "   Table  Non_unique Key_name  Seq_in_index Column_name Collation  \\\n",
       "0  group           0  PRIMARY             1    GROUP_ID         A   \n",
       "\n",
       "   Cardinality Sub_part Packed Null Index_type Comment Index_comment Visible  \\\n",
       "0      1285836     None   None           BTREE                           YES   \n",
       "\n",
       "  Expression  \n",
       "0       None  "
      ]
     },
     "execution_count": 23,
     "metadata": {},
     "output_type": "execute_result"
    }
   ],
   "source": [
    "query_index = text(\"\"\"show indexes from `group`;\"\"\")  \n",
    "df = get_df(query_index)\n",
    "df"
   ]
  },
  {
   "cell_type": "code",
   "execution_count": 24,
   "metadata": {},
   "outputs": [
    {
     "name": "stdout",
     "output_type": "stream",
     "text": [
      "Время выполнения запроса: 0.0078 секунд\n"
     ]
    },
    {
     "data": {
      "text/html": [
       "<div>\n",
       "<style scoped>\n",
       "    .dataframe tbody tr th:only-of-type {\n",
       "        vertical-align: middle;\n",
       "    }\n",
       "\n",
       "    .dataframe tbody tr th {\n",
       "        vertical-align: top;\n",
       "    }\n",
       "\n",
       "    .dataframe thead th {\n",
       "        text-align: right;\n",
       "    }\n",
       "</style>\n",
       "<table border=\"1\" class=\"dataframe\">\n",
       "  <thead>\n",
       "    <tr style=\"text-align: right;\">\n",
       "      <th></th>\n",
       "      <th>Table</th>\n",
       "      <th>Non_unique</th>\n",
       "      <th>Key_name</th>\n",
       "      <th>Seq_in_index</th>\n",
       "      <th>Column_name</th>\n",
       "      <th>Collation</th>\n",
       "      <th>Cardinality</th>\n",
       "      <th>Sub_part</th>\n",
       "      <th>Packed</th>\n",
       "      <th>Null</th>\n",
       "      <th>Index_type</th>\n",
       "      <th>Comment</th>\n",
       "      <th>Index_comment</th>\n",
       "      <th>Visible</th>\n",
       "      <th>Expression</th>\n",
       "    </tr>\n",
       "  </thead>\n",
       "  <tbody>\n",
       "    <tr>\n",
       "      <th>0</th>\n",
       "      <td>artist</td>\n",
       "      <td>0</td>\n",
       "      <td>PRIMARY</td>\n",
       "      <td>1</td>\n",
       "      <td>ARTIST_ID</td>\n",
       "      <td>A</td>\n",
       "      <td>6291116</td>\n",
       "      <td>None</td>\n",
       "      <td>None</td>\n",
       "      <td></td>\n",
       "      <td>BTREE</td>\n",
       "      <td></td>\n",
       "      <td></td>\n",
       "      <td>YES</td>\n",
       "      <td>None</td>\n",
       "    </tr>\n",
       "    <tr>\n",
       "      <th>1</th>\n",
       "      <td>artist</td>\n",
       "      <td>1</td>\n",
       "      <td>idx_artist_id</td>\n",
       "      <td>1</td>\n",
       "      <td>ARTIST_ID</td>\n",
       "      <td>A</td>\n",
       "      <td>6291116</td>\n",
       "      <td>None</td>\n",
       "      <td>None</td>\n",
       "      <td></td>\n",
       "      <td>BTREE</td>\n",
       "      <td></td>\n",
       "      <td></td>\n",
       "      <td>YES</td>\n",
       "      <td>None</td>\n",
       "    </tr>\n",
       "    <tr>\n",
       "      <th>2</th>\n",
       "      <td>artist</td>\n",
       "      <td>1</td>\n",
       "      <td>idx_artist_name</td>\n",
       "      <td>1</td>\n",
       "      <td>NAME</td>\n",
       "      <td>A</td>\n",
       "      <td>6263415</td>\n",
       "      <td>None</td>\n",
       "      <td>None</td>\n",
       "      <td></td>\n",
       "      <td>BTREE</td>\n",
       "      <td></td>\n",
       "      <td></td>\n",
       "      <td>YES</td>\n",
       "      <td>None</td>\n",
       "    </tr>\n",
       "    <tr>\n",
       "      <th>3</th>\n",
       "      <td>artist</td>\n",
       "      <td>1</td>\n",
       "      <td>ft_profile</td>\n",
       "      <td>1</td>\n",
       "      <td>PROFILE</td>\n",
       "      <td>None</td>\n",
       "      <td>6291116</td>\n",
       "      <td>None</td>\n",
       "      <td>None</td>\n",
       "      <td>YES</td>\n",
       "      <td>FULLTEXT</td>\n",
       "      <td></td>\n",
       "      <td></td>\n",
       "      <td>YES</td>\n",
       "      <td>None</td>\n",
       "    </tr>\n",
       "  </tbody>\n",
       "</table>\n",
       "</div>"
      ],
      "text/plain": [
       "    Table  Non_unique         Key_name  Seq_in_index Column_name Collation  \\\n",
       "0  artist           0          PRIMARY             1   ARTIST_ID         A   \n",
       "1  artist           1    idx_artist_id             1   ARTIST_ID         A   \n",
       "2  artist           1  idx_artist_name             1        NAME         A   \n",
       "3  artist           1       ft_profile             1     PROFILE      None   \n",
       "\n",
       "   Cardinality Sub_part Packed Null Index_type Comment Index_comment Visible  \\\n",
       "0      6291116     None   None           BTREE                           YES   \n",
       "1      6291116     None   None           BTREE                           YES   \n",
       "2      6263415     None   None           BTREE                           YES   \n",
       "3      6291116     None   None  YES   FULLTEXT                           YES   \n",
       "\n",
       "  Expression  \n",
       "0       None  \n",
       "1       None  \n",
       "2       None  \n",
       "3       None  "
      ]
     },
     "execution_count": 24,
     "metadata": {},
     "output_type": "execute_result"
    }
   ],
   "source": [
    "query_index = text(\"\"\"show indexes from `artist`;\"\"\")  \n",
    "df = get_df(query_index)\n",
    "df"
   ]
  },
  {
   "cell_type": "code",
   "execution_count": 27,
   "metadata": {},
   "outputs": [
    {
     "name": "stdout",
     "output_type": "stream",
     "text": [
      "Время выполнения запроса: 0.5454 секунд\n"
     ]
    },
    {
     "data": {
      "text/html": [
       "<div>\n",
       "<style scoped>\n",
       "    .dataframe tbody tr th:only-of-type {\n",
       "        vertical-align: middle;\n",
       "    }\n",
       "\n",
       "    .dataframe tbody tr th {\n",
       "        vertical-align: top;\n",
       "    }\n",
       "\n",
       "    .dataframe thead th {\n",
       "        text-align: right;\n",
       "    }\n",
       "</style>\n",
       "<table border=\"1\" class=\"dataframe\">\n",
       "  <thead>\n",
       "    <tr style=\"text-align: right;\">\n",
       "      <th></th>\n",
       "      <th>ARTIST_ID</th>\n",
       "      <th>NAME</th>\n",
       "      <th>REALNAME</th>\n",
       "      <th>PROFILE</th>\n",
       "      <th>DATA_QUALITY</th>\n",
       "      <th>GROUP_ID</th>\n",
       "      <th>MAIN_ARTIST_ID</th>\n",
       "      <th>GROUP_ARTIST_ID</th>\n",
       "    </tr>\n",
       "  </thead>\n",
       "  <tbody>\n",
       "    <tr>\n",
       "      <th>0</th>\n",
       "      <td>25</td>\n",
       "      <td>Tetsu Inoue</td>\n",
       "      <td>Tetsu Inoue</td>\n",
       "      <td></td>\n",
       "      <td>Needs Vote</td>\n",
       "      <td>47</td>\n",
       "      <td>22</td>\n",
       "      <td>25</td>\n",
       "    </tr>\n",
       "    <tr>\n",
       "      <th>1</th>\n",
       "      <td>519207</td>\n",
       "      <td>Uwe Schmidt</td>\n",
       "      <td>Uwe H. Schmidt</td>\n",
       "      <td>Born August 27th, 1968 in Frankfurt am Main, G...</td>\n",
       "      <td>Correct</td>\n",
       "      <td>263452</td>\n",
       "      <td>22</td>\n",
       "      <td>519207</td>\n",
       "    </tr>\n",
       "  </tbody>\n",
       "</table>\n",
       "</div>"
      ],
      "text/plain": [
       "   ARTIST_ID         NAME        REALNAME  \\\n",
       "0         25  Tetsu Inoue     Tetsu Inoue   \n",
       "1     519207  Uwe Schmidt  Uwe H. Schmidt   \n",
       "\n",
       "                                             PROFILE DATA_QUALITY  GROUP_ID  \\\n",
       "0                                                      Needs Vote        47   \n",
       "1  Born August 27th, 1968 in Frankfurt am Main, G...      Correct    263452   \n",
       "\n",
       "   MAIN_ARTIST_ID  GROUP_ARTIST_ID  \n",
       "0              22               25  \n",
       "1              22           519207  "
      ]
     },
     "execution_count": 27,
     "metadata": {},
     "output_type": "execute_result"
    }
   ],
   "source": [
    "query_2 = text(\"\"\"SELECT * \n",
    "                FROM artist \n",
    "                JOIN `group` ON artist.artist_id = `group`.group_artist_id\n",
    "                WHERE `group`.main_artist_id = (SELECT artist_id FROM artist WHERE name = 'DATacide');\"\"\")  \n",
    "\n",
    "get_df(query_2)"
   ]
  },
  {
   "cell_type": "code",
   "execution_count": 28,
   "metadata": {},
   "outputs": [
    {
     "name": "stdout",
     "output_type": "stream",
     "text": [
      "Время выполнения запроса: 4.9488 секунд\n",
      "Время выполнения запроса: 4.6118 секунд\n"
     ]
    }
   ],
   "source": [
    "query_index_1 = text(\"\"\"CREATE INDEX idx_group_main_artist_id ON discogs.group (main_artist_id);\"\"\")\n",
    "query_index_2 = text(\"\"\"CREATE INDEX idx_group_artist_id ON discogs.group (group_artist_id);\"\"\")\n",
    "\n",
    "get_query_db(query_index_1)\n",
    "get_query_db(query_index_2)"
   ]
  },
  {
   "cell_type": "code",
   "execution_count": 29,
   "metadata": {},
   "outputs": [
    {
     "name": "stdout",
     "output_type": "stream",
     "text": [
      "Время выполнения запроса: 0.0049 секунд\n"
     ]
    },
    {
     "data": {
      "text/html": [
       "<div>\n",
       "<style scoped>\n",
       "    .dataframe tbody tr th:only-of-type {\n",
       "        vertical-align: middle;\n",
       "    }\n",
       "\n",
       "    .dataframe tbody tr th {\n",
       "        vertical-align: top;\n",
       "    }\n",
       "\n",
       "    .dataframe thead th {\n",
       "        text-align: right;\n",
       "    }\n",
       "</style>\n",
       "<table border=\"1\" class=\"dataframe\">\n",
       "  <thead>\n",
       "    <tr style=\"text-align: right;\">\n",
       "      <th></th>\n",
       "      <th>ARTIST_ID</th>\n",
       "      <th>NAME</th>\n",
       "      <th>REALNAME</th>\n",
       "      <th>PROFILE</th>\n",
       "      <th>DATA_QUALITY</th>\n",
       "      <th>GROUP_ID</th>\n",
       "      <th>MAIN_ARTIST_ID</th>\n",
       "      <th>GROUP_ARTIST_ID</th>\n",
       "    </tr>\n",
       "  </thead>\n",
       "  <tbody>\n",
       "    <tr>\n",
       "      <th>0</th>\n",
       "      <td>25</td>\n",
       "      <td>Tetsu Inoue</td>\n",
       "      <td>Tetsu Inoue</td>\n",
       "      <td></td>\n",
       "      <td>Needs Vote</td>\n",
       "      <td>47</td>\n",
       "      <td>22</td>\n",
       "      <td>25</td>\n",
       "    </tr>\n",
       "    <tr>\n",
       "      <th>1</th>\n",
       "      <td>519207</td>\n",
       "      <td>Uwe Schmidt</td>\n",
       "      <td>Uwe H. Schmidt</td>\n",
       "      <td>Born August 27th, 1968 in Frankfurt am Main, G...</td>\n",
       "      <td>Correct</td>\n",
       "      <td>263452</td>\n",
       "      <td>22</td>\n",
       "      <td>519207</td>\n",
       "    </tr>\n",
       "  </tbody>\n",
       "</table>\n",
       "</div>"
      ],
      "text/plain": [
       "   ARTIST_ID         NAME        REALNAME  \\\n",
       "0         25  Tetsu Inoue     Tetsu Inoue   \n",
       "1     519207  Uwe Schmidt  Uwe H. Schmidt   \n",
       "\n",
       "                                             PROFILE DATA_QUALITY  GROUP_ID  \\\n",
       "0                                                      Needs Vote        47   \n",
       "1  Born August 27th, 1968 in Frankfurt am Main, G...      Correct    263452   \n",
       "\n",
       "   MAIN_ARTIST_ID  GROUP_ARTIST_ID  \n",
       "0              22               25  \n",
       "1              22           519207  "
      ]
     },
     "execution_count": 29,
     "metadata": {},
     "output_type": "execute_result"
    }
   ],
   "source": [
    "get_df(query_2)"
   ]
  },
  {
   "cell_type": "code",
   "execution_count": 26,
   "metadata": {},
   "outputs": [
    {
     "name": "stdout",
     "output_type": "stream",
     "text": [
      "Ошибка: (pymysql.err.OperationalError) (1091, \"Can't DROP 'idx_group_main_artist_id'; check that column/key exists\")\n",
      "[SQL: drop INDEX idx_group_main_artist_id ON `group`]\n",
      "(Background on this error at: https://sqlalche.me/e/20/e3q8)\n",
      "Ошибка: (pymysql.err.OperationalError) (1091, \"Can't DROP 'idx_group_artist_id'; check that column/key exists\")\n",
      "[SQL: drop INDEX idx_group_artist_id ON `group`]\n",
      "(Background on this error at: https://sqlalche.me/e/20/e3q8)\n"
     ]
    }
   ],
   "source": [
    "# удаляем индексы\n",
    "\n",
    "query = text(\"\"\"drop INDEX idx_group_main_artist_id ON `group`\"\"\")\n",
    "df = get_query_db(query)\n",
    "\n",
    "query = text(\"\"\"drop INDEX idx_group_artist_id ON `group`\"\"\")\n",
    "df = get_query_db(query)"
   ]
  },
  {
   "cell_type": "markdown",
   "metadata": {},
   "source": [
    "------------------------------------"
   ]
  },
  {
   "cell_type": "markdown",
   "metadata": {},
   "source": [
    "### Индексы 3\n",
    "Найти все релизы заданного исполнителя и отсортировать их по дате выпуска. Вывести имя исполнителя, название релиза, дату выхода."
   ]
  },
  {
   "cell_type": "code",
   "execution_count": 30,
   "metadata": {},
   "outputs": [
    {
     "name": "stdout",
     "output_type": "stream",
     "text": [
      "Время выполнения запроса: 0.0108 секунд\n"
     ]
    },
    {
     "data": {
      "text/html": [
       "<div>\n",
       "<style scoped>\n",
       "    .dataframe tbody tr th:only-of-type {\n",
       "        vertical-align: middle;\n",
       "    }\n",
       "\n",
       "    .dataframe tbody tr th {\n",
       "        vertical-align: top;\n",
       "    }\n",
       "\n",
       "    .dataframe thead th {\n",
       "        text-align: right;\n",
       "    }\n",
       "</style>\n",
       "<table border=\"1\" class=\"dataframe\">\n",
       "  <thead>\n",
       "    <tr style=\"text-align: right;\">\n",
       "      <th></th>\n",
       "      <th>Table</th>\n",
       "      <th>Non_unique</th>\n",
       "      <th>Key_name</th>\n",
       "      <th>Seq_in_index</th>\n",
       "      <th>Column_name</th>\n",
       "      <th>Collation</th>\n",
       "      <th>Cardinality</th>\n",
       "      <th>Sub_part</th>\n",
       "      <th>Packed</th>\n",
       "      <th>Null</th>\n",
       "      <th>Index_type</th>\n",
       "      <th>Comment</th>\n",
       "      <th>Index_comment</th>\n",
       "      <th>Visible</th>\n",
       "      <th>Expression</th>\n",
       "    </tr>\n",
       "  </thead>\n",
       "  <tbody>\n",
       "    <tr>\n",
       "      <th>0</th>\n",
       "      <td>release</td>\n",
       "      <td>0</td>\n",
       "      <td>PRIMARY</td>\n",
       "      <td>1</td>\n",
       "      <td>RELEASE_ID</td>\n",
       "      <td>A</td>\n",
       "      <td>10657532</td>\n",
       "      <td>None</td>\n",
       "      <td>None</td>\n",
       "      <td></td>\n",
       "      <td>BTREE</td>\n",
       "      <td></td>\n",
       "      <td></td>\n",
       "      <td>YES</td>\n",
       "      <td>None</td>\n",
       "    </tr>\n",
       "    <tr>\n",
       "      <th>1</th>\n",
       "      <td>release</td>\n",
       "      <td>1</td>\n",
       "      <td>idx_release_main_release</td>\n",
       "      <td>1</td>\n",
       "      <td>IS_MAIN_RELEASE</td>\n",
       "      <td>A</td>\n",
       "      <td>1</td>\n",
       "      <td>None</td>\n",
       "      <td>None</td>\n",
       "      <td></td>\n",
       "      <td>BTREE</td>\n",
       "      <td></td>\n",
       "      <td></td>\n",
       "      <td>YES</td>\n",
       "      <td>None</td>\n",
       "    </tr>\n",
       "    <tr>\n",
       "      <th>2</th>\n",
       "      <td>release</td>\n",
       "      <td>1</td>\n",
       "      <td>idx_release_year</td>\n",
       "      <td>1</td>\n",
       "      <td>RELEASED</td>\n",
       "      <td>A</td>\n",
       "      <td>29808</td>\n",
       "      <td>None</td>\n",
       "      <td>None</td>\n",
       "      <td></td>\n",
       "      <td>BTREE</td>\n",
       "      <td></td>\n",
       "      <td></td>\n",
       "      <td>YES</td>\n",
       "      <td>None</td>\n",
       "    </tr>\n",
       "  </tbody>\n",
       "</table>\n",
       "</div>"
      ],
      "text/plain": [
       "     Table  Non_unique                  Key_name  Seq_in_index  \\\n",
       "0  release           0                   PRIMARY             1   \n",
       "1  release           1  idx_release_main_release             1   \n",
       "2  release           1          idx_release_year             1   \n",
       "\n",
       "       Column_name Collation  Cardinality Sub_part Packed Null Index_type  \\\n",
       "0       RELEASE_ID         A     10657532     None   None           BTREE   \n",
       "1  IS_MAIN_RELEASE         A            1     None   None           BTREE   \n",
       "2         RELEASED         A        29808     None   None           BTREE   \n",
       "\n",
       "  Comment Index_comment Visible Expression  \n",
       "0                           YES       None  \n",
       "1                           YES       None  \n",
       "2                           YES       None  "
      ]
     },
     "execution_count": 30,
     "metadata": {},
     "output_type": "execute_result"
    }
   ],
   "source": [
    "query_index = text(\"\"\"show indexes from `release`;\"\"\")  \n",
    "df = get_df(query_index)\n",
    "df"
   ]
  },
  {
   "cell_type": "code",
   "execution_count": 31,
   "metadata": {},
   "outputs": [
    {
     "name": "stdout",
     "output_type": "stream",
     "text": [
      "Время выполнения запроса: 0.0156 секунд\n"
     ]
    },
    {
     "data": {
      "text/html": [
       "<div>\n",
       "<style scoped>\n",
       "    .dataframe tbody tr th:only-of-type {\n",
       "        vertical-align: middle;\n",
       "    }\n",
       "\n",
       "    .dataframe tbody tr th {\n",
       "        vertical-align: top;\n",
       "    }\n",
       "\n",
       "    .dataframe thead th {\n",
       "        text-align: right;\n",
       "    }\n",
       "</style>\n",
       "<table border=\"1\" class=\"dataframe\">\n",
       "  <thead>\n",
       "    <tr style=\"text-align: right;\">\n",
       "      <th></th>\n",
       "      <th>Table</th>\n",
       "      <th>Non_unique</th>\n",
       "      <th>Key_name</th>\n",
       "      <th>Seq_in_index</th>\n",
       "      <th>Column_name</th>\n",
       "      <th>Collation</th>\n",
       "      <th>Cardinality</th>\n",
       "      <th>Sub_part</th>\n",
       "      <th>Packed</th>\n",
       "      <th>Null</th>\n",
       "      <th>Index_type</th>\n",
       "      <th>Comment</th>\n",
       "      <th>Index_comment</th>\n",
       "      <th>Visible</th>\n",
       "      <th>Expression</th>\n",
       "    </tr>\n",
       "  </thead>\n",
       "  <tbody>\n",
       "    <tr>\n",
       "      <th>0</th>\n",
       "      <td>release_artist</td>\n",
       "      <td>0</td>\n",
       "      <td>PRIMARY</td>\n",
       "      <td>1</td>\n",
       "      <td>RELEASE_ARTIST_ID</td>\n",
       "      <td>A</td>\n",
       "      <td>52563772</td>\n",
       "      <td>None</td>\n",
       "      <td>None</td>\n",
       "      <td></td>\n",
       "      <td>BTREE</td>\n",
       "      <td></td>\n",
       "      <td></td>\n",
       "      <td>YES</td>\n",
       "      <td>None</td>\n",
       "    </tr>\n",
       "  </tbody>\n",
       "</table>\n",
       "</div>"
      ],
      "text/plain": [
       "            Table  Non_unique Key_name  Seq_in_index        Column_name  \\\n",
       "0  release_artist           0  PRIMARY             1  RELEASE_ARTIST_ID   \n",
       "\n",
       "  Collation  Cardinality Sub_part Packed Null Index_type Comment  \\\n",
       "0         A     52563772     None   None           BTREE           \n",
       "\n",
       "  Index_comment Visible Expression  \n",
       "0                   YES       None  "
      ]
     },
     "execution_count": 31,
     "metadata": {},
     "output_type": "execute_result"
    }
   ],
   "source": [
    "query_index = text(\"\"\"show indexes from `release_artist`;\"\"\")  \n",
    "df = get_df(query_index)\n",
    "df"
   ]
  },
  {
   "cell_type": "code",
   "execution_count": 60,
   "metadata": {},
   "outputs": [
    {
     "name": "stdout",
     "output_type": "stream",
     "text": [
      "Время выполнения запроса: 0.0344 секунд\n"
     ]
    },
    {
     "data": {
      "text/html": [
       "<div>\n",
       "<style scoped>\n",
       "    .dataframe tbody tr th:only-of-type {\n",
       "        vertical-align: middle;\n",
       "    }\n",
       "\n",
       "    .dataframe tbody tr th {\n",
       "        vertical-align: top;\n",
       "    }\n",
       "\n",
       "    .dataframe thead th {\n",
       "        text-align: right;\n",
       "    }\n",
       "</style>\n",
       "<table border=\"1\" class=\"dataframe\">\n",
       "  <thead>\n",
       "    <tr style=\"text-align: right;\">\n",
       "      <th></th>\n",
       "      <th>id</th>\n",
       "      <th>select_type</th>\n",
       "      <th>table</th>\n",
       "      <th>partitions</th>\n",
       "      <th>type</th>\n",
       "      <th>possible_keys</th>\n",
       "      <th>key</th>\n",
       "      <th>key_len</th>\n",
       "      <th>ref</th>\n",
       "      <th>rows</th>\n",
       "      <th>filtered</th>\n",
       "      <th>Extra</th>\n",
       "    </tr>\n",
       "  </thead>\n",
       "  <tbody>\n",
       "    <tr>\n",
       "      <th>0</th>\n",
       "      <td>1</td>\n",
       "      <td>SIMPLE</td>\n",
       "      <td>artist</td>\n",
       "      <td>None</td>\n",
       "      <td>ref</td>\n",
       "      <td>PRIMARY,idx_artist_id,idx_artist_name</td>\n",
       "      <td>idx_artist_name</td>\n",
       "      <td>1022</td>\n",
       "      <td>const</td>\n",
       "      <td>1</td>\n",
       "      <td>100.0</td>\n",
       "      <td>Using index; Using temporary; Using filesort</td>\n",
       "    </tr>\n",
       "    <tr>\n",
       "      <th>1</th>\n",
       "      <td>1</td>\n",
       "      <td>SIMPLE</td>\n",
       "      <td>release_artist</td>\n",
       "      <td>None</td>\n",
       "      <td>ALL</td>\n",
       "      <td>idx_release_id</td>\n",
       "      <td>None</td>\n",
       "      <td>None</td>\n",
       "      <td>None</td>\n",
       "      <td>52563772</td>\n",
       "      <td>10.0</td>\n",
       "      <td>Using where; Using join buffer (hash join)</td>\n",
       "    </tr>\n",
       "    <tr>\n",
       "      <th>2</th>\n",
       "      <td>1</td>\n",
       "      <td>SIMPLE</td>\n",
       "      <td>r</td>\n",
       "      <td>None</td>\n",
       "      <td>eq_ref</td>\n",
       "      <td>PRIMARY</td>\n",
       "      <td>PRIMARY</td>\n",
       "      <td>4</td>\n",
       "      <td>discogs.release_artist.RELEASE_ID</td>\n",
       "      <td>1</td>\n",
       "      <td>100.0</td>\n",
       "      <td>None</td>\n",
       "    </tr>\n",
       "  </tbody>\n",
       "</table>\n",
       "</div>"
      ],
      "text/plain": [
       "   id select_type           table partitions    type  \\\n",
       "0   1      SIMPLE          artist       None     ref   \n",
       "1   1      SIMPLE  release_artist       None     ALL   \n",
       "2   1      SIMPLE               r       None  eq_ref   \n",
       "\n",
       "                           possible_keys              key key_len  \\\n",
       "0  PRIMARY,idx_artist_id,idx_artist_name  idx_artist_name    1022   \n",
       "1                         idx_release_id             None    None   \n",
       "2                                PRIMARY          PRIMARY       4   \n",
       "\n",
       "                                 ref      rows  filtered  \\\n",
       "0                              const         1     100.0   \n",
       "1                               None  52563772      10.0   \n",
       "2  discogs.release_artist.RELEASE_ID         1     100.0   \n",
       "\n",
       "                                          Extra  \n",
       "0  Using index; Using temporary; Using filesort  \n",
       "1    Using where; Using join buffer (hash join)  \n",
       "2                                          None  "
      ]
     },
     "execution_count": 60,
     "metadata": {},
     "output_type": "execute_result"
    }
   ],
   "source": [
    "# до индексов \n",
    "query_indx_3 = text(\"\"\"Explain SELECT artist.name, r.title, r.released \n",
    "                        FROM discogs.release r\n",
    "                        JOIN release_artist ON r.release_id = release_artist.release_id\n",
    "                        JOIN artist ON artist.artist_id = release_artist.artist_id\n",
    "                        WHERE artist.name = 'K.A.B.'\n",
    "                        ORDER BY r.released;\"\"\")  \n",
    "\n",
    "get_df(query_indx_3)"
   ]
  },
  {
   "cell_type": "code",
   "execution_count": null,
   "metadata": {},
   "outputs": [
    {
     "name": "stdout",
     "output_type": "stream",
     "text": [
      "Время выполнения запроса: 154.5388 секунд\n",
      "Время выполнения запроса: 38.8230 секунд\n"
     ]
    }
   ],
   "source": [
    "query_1 = text(\"\"\"CREATE INDEX idx_release_artist_id ON discogs.release_artist (artist_id);\"\"\")\n",
    "query_2 = text(\"\"\"CREATE INDEX idx_release_released ON discogs.release (released);\"\"\")\n",
    "#query_3 = text(\"\"\"CREATE INDEX idx_release_released ON discogs.release (released);\"\"\") (name)\n",
    "\n",
    "get_query_db(query_1)\n",
    "get_query_db(query_2)"
   ]
  },
  {
   "cell_type": "code",
   "execution_count": 34,
   "metadata": {},
   "outputs": [
    {
     "name": "stdout",
     "output_type": "stream",
     "text": [
      "Время выполнения запроса: 0.0839 секунд\n"
     ]
    },
    {
     "data": {
      "text/html": [
       "<div>\n",
       "<style scoped>\n",
       "    .dataframe tbody tr th:only-of-type {\n",
       "        vertical-align: middle;\n",
       "    }\n",
       "\n",
       "    .dataframe tbody tr th {\n",
       "        vertical-align: top;\n",
       "    }\n",
       "\n",
       "    .dataframe thead th {\n",
       "        text-align: right;\n",
       "    }\n",
       "</style>\n",
       "<table border=\"1\" class=\"dataframe\">\n",
       "  <thead>\n",
       "    <tr style=\"text-align: right;\">\n",
       "      <th></th>\n",
       "      <th>name</th>\n",
       "      <th>title</th>\n",
       "      <th>released</th>\n",
       "    </tr>\n",
       "  </thead>\n",
       "  <tbody>\n",
       "    <tr>\n",
       "      <th>0</th>\n",
       "      <td>K.A.B.</td>\n",
       "      <td>Excursion</td>\n",
       "      <td>2012-10-29</td>\n",
       "    </tr>\n",
       "  </tbody>\n",
       "</table>\n",
       "</div>"
      ],
      "text/plain": [
       "     name      title    released\n",
       "0  K.A.B.  Excursion  2012-10-29"
      ]
     },
     "execution_count": 34,
     "metadata": {},
     "output_type": "execute_result"
    }
   ],
   "source": [
    "# после создания индексов\n",
    "get_df(query_indx_3)"
   ]
  },
  {
   "cell_type": "code",
   "execution_count": 35,
   "metadata": {},
   "outputs": [
    {
     "name": "stdout",
     "output_type": "stream",
     "text": [
      "Время выполнения запроса: 0.1166 секунд\n",
      "Время выполнения запроса: 0.0223 секунд\n"
     ]
    }
   ],
   "source": [
    "# удаляем индексы\n",
    "\n",
    "query = text(\"\"\"drop INDEX idx_release_artist_id ON `release_artist`\"\"\")\n",
    "df = get_query_db(query)\n",
    "\n",
    "query = text(\"\"\"drop INDEX idx_release_released ON `release`\"\"\")\n",
    "df = get_query_db(query)"
   ]
  },
  {
   "cell_type": "markdown",
   "metadata": {},
   "source": [
    "-------------------------------\n"
   ]
  },
  {
   "cell_type": "markdown",
   "metadata": {},
   "source": [
    "### Индексы 4\n",
    "Найти все главные релизы, выпущенные в указанный год, с указанием стиля релиза. Релиз является главным, если поле release.IS_MAIN_RELEASE = 1."
   ]
  },
  {
   "cell_type": "code",
   "execution_count": 36,
   "metadata": {},
   "outputs": [
    {
     "name": "stdout",
     "output_type": "stream",
     "text": [
      "Время выполнения запроса: 0.0681 секунд\n"
     ]
    },
    {
     "data": {
      "text/html": [
       "<div>\n",
       "<style scoped>\n",
       "    .dataframe tbody tr th:only-of-type {\n",
       "        vertical-align: middle;\n",
       "    }\n",
       "\n",
       "    .dataframe tbody tr th {\n",
       "        vertical-align: top;\n",
       "    }\n",
       "\n",
       "    .dataframe thead th {\n",
       "        text-align: right;\n",
       "    }\n",
       "</style>\n",
       "<table border=\"1\" class=\"dataframe\">\n",
       "  <thead>\n",
       "    <tr style=\"text-align: right;\">\n",
       "      <th></th>\n",
       "      <th>Table</th>\n",
       "      <th>Non_unique</th>\n",
       "      <th>Key_name</th>\n",
       "      <th>Seq_in_index</th>\n",
       "      <th>Column_name</th>\n",
       "      <th>Collation</th>\n",
       "      <th>Cardinality</th>\n",
       "      <th>Sub_part</th>\n",
       "      <th>Packed</th>\n",
       "      <th>Null</th>\n",
       "      <th>Index_type</th>\n",
       "      <th>Comment</th>\n",
       "      <th>Index_comment</th>\n",
       "      <th>Visible</th>\n",
       "      <th>Expression</th>\n",
       "    </tr>\n",
       "  </thead>\n",
       "  <tbody>\n",
       "    <tr>\n",
       "      <th>0</th>\n",
       "      <td>release</td>\n",
       "      <td>0</td>\n",
       "      <td>PRIMARY</td>\n",
       "      <td>1</td>\n",
       "      <td>RELEASE_ID</td>\n",
       "      <td>A</td>\n",
       "      <td>10657532</td>\n",
       "      <td>None</td>\n",
       "      <td>None</td>\n",
       "      <td></td>\n",
       "      <td>BTREE</td>\n",
       "      <td></td>\n",
       "      <td></td>\n",
       "      <td>YES</td>\n",
       "      <td>None</td>\n",
       "    </tr>\n",
       "    <tr>\n",
       "      <th>1</th>\n",
       "      <td>release</td>\n",
       "      <td>1</td>\n",
       "      <td>idx_release_main_release</td>\n",
       "      <td>1</td>\n",
       "      <td>IS_MAIN_RELEASE</td>\n",
       "      <td>A</td>\n",
       "      <td>1</td>\n",
       "      <td>None</td>\n",
       "      <td>None</td>\n",
       "      <td></td>\n",
       "      <td>BTREE</td>\n",
       "      <td></td>\n",
       "      <td></td>\n",
       "      <td>YES</td>\n",
       "      <td>None</td>\n",
       "    </tr>\n",
       "    <tr>\n",
       "      <th>2</th>\n",
       "      <td>release</td>\n",
       "      <td>1</td>\n",
       "      <td>idx_release_year</td>\n",
       "      <td>1</td>\n",
       "      <td>RELEASED</td>\n",
       "      <td>A</td>\n",
       "      <td>29808</td>\n",
       "      <td>None</td>\n",
       "      <td>None</td>\n",
       "      <td></td>\n",
       "      <td>BTREE</td>\n",
       "      <td></td>\n",
       "      <td></td>\n",
       "      <td>YES</td>\n",
       "      <td>None</td>\n",
       "    </tr>\n",
       "  </tbody>\n",
       "</table>\n",
       "</div>"
      ],
      "text/plain": [
       "     Table  Non_unique                  Key_name  Seq_in_index  \\\n",
       "0  release           0                   PRIMARY             1   \n",
       "1  release           1  idx_release_main_release             1   \n",
       "2  release           1          idx_release_year             1   \n",
       "\n",
       "       Column_name Collation  Cardinality Sub_part Packed Null Index_type  \\\n",
       "0       RELEASE_ID         A     10657532     None   None           BTREE   \n",
       "1  IS_MAIN_RELEASE         A            1     None   None           BTREE   \n",
       "2         RELEASED         A        29808     None   None           BTREE   \n",
       "\n",
       "  Comment Index_comment Visible Expression  \n",
       "0                           YES       None  \n",
       "1                           YES       None  \n",
       "2                           YES       None  "
      ]
     },
     "execution_count": 36,
     "metadata": {},
     "output_type": "execute_result"
    }
   ],
   "source": [
    "query_index = text(\"\"\"show indexes from `release`;\"\"\")  \n",
    "df = get_df(query_index)\n",
    "df"
   ]
  },
  {
   "cell_type": "code",
   "execution_count": 37,
   "metadata": {},
   "outputs": [
    {
     "name": "stdout",
     "output_type": "stream",
     "text": [
      "Время выполнения запроса: 0.0112 секунд\n"
     ]
    },
    {
     "data": {
      "text/html": [
       "<div>\n",
       "<style scoped>\n",
       "    .dataframe tbody tr th:only-of-type {\n",
       "        vertical-align: middle;\n",
       "    }\n",
       "\n",
       "    .dataframe tbody tr th {\n",
       "        vertical-align: top;\n",
       "    }\n",
       "\n",
       "    .dataframe thead th {\n",
       "        text-align: right;\n",
       "    }\n",
       "</style>\n",
       "<table border=\"1\" class=\"dataframe\">\n",
       "  <thead>\n",
       "    <tr style=\"text-align: right;\">\n",
       "      <th></th>\n",
       "      <th>Table</th>\n",
       "      <th>Non_unique</th>\n",
       "      <th>Key_name</th>\n",
       "      <th>Seq_in_index</th>\n",
       "      <th>Column_name</th>\n",
       "      <th>Collation</th>\n",
       "      <th>Cardinality</th>\n",
       "      <th>Sub_part</th>\n",
       "      <th>Packed</th>\n",
       "      <th>Null</th>\n",
       "      <th>Index_type</th>\n",
       "      <th>Comment</th>\n",
       "      <th>Index_comment</th>\n",
       "      <th>Visible</th>\n",
       "      <th>Expression</th>\n",
       "    </tr>\n",
       "  </thead>\n",
       "  <tbody>\n",
       "    <tr>\n",
       "      <th>0</th>\n",
       "      <td>style</td>\n",
       "      <td>0</td>\n",
       "      <td>PRIMARY</td>\n",
       "      <td>1</td>\n",
       "      <td>STYLE_ID</td>\n",
       "      <td>A</td>\n",
       "      <td>17868513</td>\n",
       "      <td>None</td>\n",
       "      <td>None</td>\n",
       "      <td></td>\n",
       "      <td>BTREE</td>\n",
       "      <td></td>\n",
       "      <td></td>\n",
       "      <td>YES</td>\n",
       "      <td>None</td>\n",
       "    </tr>\n",
       "    <tr>\n",
       "      <th>1</th>\n",
       "      <td>style</td>\n",
       "      <td>1</td>\n",
       "      <td>idx_release_style</td>\n",
       "      <td>1</td>\n",
       "      <td>RELEASE_ID</td>\n",
       "      <td>A</td>\n",
       "      <td>9649605</td>\n",
       "      <td>None</td>\n",
       "      <td>None</td>\n",
       "      <td>YES</td>\n",
       "      <td>BTREE</td>\n",
       "      <td></td>\n",
       "      <td></td>\n",
       "      <td>YES</td>\n",
       "      <td>None</td>\n",
       "    </tr>\n",
       "  </tbody>\n",
       "</table>\n",
       "</div>"
      ],
      "text/plain": [
       "   Table  Non_unique           Key_name  Seq_in_index Column_name Collation  \\\n",
       "0  style           0            PRIMARY             1    STYLE_ID         A   \n",
       "1  style           1  idx_release_style             1  RELEASE_ID         A   \n",
       "\n",
       "   Cardinality Sub_part Packed Null Index_type Comment Index_comment Visible  \\\n",
       "0     17868513     None   None           BTREE                           YES   \n",
       "1      9649605     None   None  YES      BTREE                           YES   \n",
       "\n",
       "  Expression  \n",
       "0       None  \n",
       "1       None  "
      ]
     },
     "execution_count": 37,
     "metadata": {},
     "output_type": "execute_result"
    }
   ],
   "source": [
    "query_index = text(\"\"\"show indexes from `style`;\"\"\")  \n",
    "df = get_df(query_index)\n",
    "df"
   ]
  },
  {
   "cell_type": "code",
   "execution_count": null,
   "metadata": {},
   "outputs": [
    {
     "name": "stdout",
     "output_type": "stream",
     "text": [
      "Время выполнения запроса: 39.4227 секунд\n"
     ]
    }
   ],
   "source": [
    "query_indx_4 = text(\"\"\"SELECT r.title, style.style_name\n",
    "                        FROM discogs.release r\n",
    "                        JOIN style ON r.release_id = style.release_id\n",
    "                        WHERE r.is_main_release = 1 \n",
    "                        AND YEAR(r.released) = 2023\n",
    "                        AND STYLE_NAME = 'Deep House';\"\"\")  \n",
    "\n",
    "get_query_db(query_indx_4)"
   ]
  },
  {
   "cell_type": "code",
   "execution_count": 41,
   "metadata": {},
   "outputs": [
    {
     "name": "stdout",
     "output_type": "stream",
     "text": [
      "Время выполнения запроса: 37.8715 секунд\n",
      "Время выполнения запроса: 39.3121 секунд\n",
      "Время выполнения запроса: 52.9502 секунд\n"
     ]
    }
   ],
   "source": [
    "query_1 = text(\"\"\"CREATE INDEX idx_release_main_release ON discogs.release (is_main_release);\"\"\")\n",
    "query_2 = text(\"\"\"CREATE INDEX idx_release_year ON discogs.release (released);\"\"\")\n",
    "query_3 = text(\"\"\"CREATE INDEX idx_release_style ON discogs.style (release_id);\"\"\")\n",
    "\n",
    "get_query_db(query_1)\n",
    "get_query_db(query_2)\n",
    "get_query_db(query_3)"
   ]
  },
  {
   "cell_type": "code",
   "execution_count": 42,
   "metadata": {},
   "outputs": [
    {
     "name": "stdout",
     "output_type": "stream",
     "text": [
      "Время выполнения запроса: 35.3612 секунд\n"
     ]
    }
   ],
   "source": [
    "get_query_db(query_indx_4)"
   ]
  },
  {
   "cell_type": "code",
   "execution_count": 43,
   "metadata": {},
   "outputs": [
    {
     "name": "stdout",
     "output_type": "stream",
     "text": [
      "Время выполнения запроса: 0.0519 секунд\n",
      "Время выполнения запроса: 0.0251 секунд\n",
      "Время выполнения запроса: 0.0320 секунд\n"
     ]
    }
   ],
   "source": [
    "query = text(\"\"\"drop INDEX idx_release_main_release ON `release`\"\"\")\n",
    "df = get_query_db(query)\n",
    "\n",
    "query = text(\"\"\"drop INDEX idx_release_year ON `release`\"\"\")\n",
    "df = get_query_db(query)\n",
    "\n",
    "query = text(\"\"\"drop INDEX idx_release_style ON `style`\"\"\")\n",
    "df = get_query_db(query)"
   ]
  },
  {
   "cell_type": "markdown",
   "metadata": {},
   "source": [
    "------------------------------------------"
   ]
  },
  {
   "cell_type": "markdown",
   "metadata": {},
   "source": [
    "### Индексы 5\n",
    "Найти всех исполнителей, в описании (профиле) которых встречается указанное выражение, с использованием полнотекстового запроса."
   ]
  },
  {
   "cell_type": "code",
   "execution_count": 58,
   "metadata": {},
   "outputs": [
    {
     "name": "stdout",
     "output_type": "stream",
     "text": [
      "Время выполнения запроса: 0.0101 секунд\n"
     ]
    },
    {
     "data": {
      "text/html": [
       "<div>\n",
       "<style scoped>\n",
       "    .dataframe tbody tr th:only-of-type {\n",
       "        vertical-align: middle;\n",
       "    }\n",
       "\n",
       "    .dataframe tbody tr th {\n",
       "        vertical-align: top;\n",
       "    }\n",
       "\n",
       "    .dataframe thead th {\n",
       "        text-align: right;\n",
       "    }\n",
       "</style>\n",
       "<table border=\"1\" class=\"dataframe\">\n",
       "  <thead>\n",
       "    <tr style=\"text-align: right;\">\n",
       "      <th></th>\n",
       "      <th>Table</th>\n",
       "      <th>Non_unique</th>\n",
       "      <th>Key_name</th>\n",
       "      <th>Seq_in_index</th>\n",
       "      <th>Column_name</th>\n",
       "      <th>Collation</th>\n",
       "      <th>Cardinality</th>\n",
       "      <th>Sub_part</th>\n",
       "      <th>Packed</th>\n",
       "      <th>Null</th>\n",
       "      <th>Index_type</th>\n",
       "      <th>Comment</th>\n",
       "      <th>Index_comment</th>\n",
       "      <th>Visible</th>\n",
       "      <th>Expression</th>\n",
       "    </tr>\n",
       "  </thead>\n",
       "  <tbody>\n",
       "    <tr>\n",
       "      <th>0</th>\n",
       "      <td>artist</td>\n",
       "      <td>0</td>\n",
       "      <td>PRIMARY</td>\n",
       "      <td>1</td>\n",
       "      <td>ARTIST_ID</td>\n",
       "      <td>A</td>\n",
       "      <td>6291116</td>\n",
       "      <td>None</td>\n",
       "      <td>None</td>\n",
       "      <td></td>\n",
       "      <td>BTREE</td>\n",
       "      <td></td>\n",
       "      <td></td>\n",
       "      <td>YES</td>\n",
       "      <td>None</td>\n",
       "    </tr>\n",
       "    <tr>\n",
       "      <th>1</th>\n",
       "      <td>artist</td>\n",
       "      <td>1</td>\n",
       "      <td>idx_artist_id</td>\n",
       "      <td>1</td>\n",
       "      <td>ARTIST_ID</td>\n",
       "      <td>A</td>\n",
       "      <td>6291116</td>\n",
       "      <td>None</td>\n",
       "      <td>None</td>\n",
       "      <td></td>\n",
       "      <td>BTREE</td>\n",
       "      <td></td>\n",
       "      <td></td>\n",
       "      <td>YES</td>\n",
       "      <td>None</td>\n",
       "    </tr>\n",
       "    <tr>\n",
       "      <th>2</th>\n",
       "      <td>artist</td>\n",
       "      <td>1</td>\n",
       "      <td>idx_artist_name</td>\n",
       "      <td>1</td>\n",
       "      <td>NAME</td>\n",
       "      <td>A</td>\n",
       "      <td>6263415</td>\n",
       "      <td>None</td>\n",
       "      <td>None</td>\n",
       "      <td></td>\n",
       "      <td>BTREE</td>\n",
       "      <td></td>\n",
       "      <td></td>\n",
       "      <td>YES</td>\n",
       "      <td>None</td>\n",
       "    </tr>\n",
       "    <tr>\n",
       "      <th>3</th>\n",
       "      <td>artist</td>\n",
       "      <td>1</td>\n",
       "      <td>ft_profile</td>\n",
       "      <td>1</td>\n",
       "      <td>PROFILE</td>\n",
       "      <td>None</td>\n",
       "      <td>6291116</td>\n",
       "      <td>None</td>\n",
       "      <td>None</td>\n",
       "      <td>YES</td>\n",
       "      <td>FULLTEXT</td>\n",
       "      <td></td>\n",
       "      <td></td>\n",
       "      <td>YES</td>\n",
       "      <td>None</td>\n",
       "    </tr>\n",
       "  </tbody>\n",
       "</table>\n",
       "</div>"
      ],
      "text/plain": [
       "    Table  Non_unique         Key_name  Seq_in_index Column_name Collation  \\\n",
       "0  artist           0          PRIMARY             1   ARTIST_ID         A   \n",
       "1  artist           1    idx_artist_id             1   ARTIST_ID         A   \n",
       "2  artist           1  idx_artist_name             1        NAME         A   \n",
       "3  artist           1       ft_profile             1     PROFILE      None   \n",
       "\n",
       "   Cardinality Sub_part Packed Null Index_type Comment Index_comment Visible  \\\n",
       "0      6291116     None   None           BTREE                           YES   \n",
       "1      6291116     None   None           BTREE                           YES   \n",
       "2      6263415     None   None           BTREE                           YES   \n",
       "3      6291116     None   None  YES   FULLTEXT                           YES   \n",
       "\n",
       "  Expression  \n",
       "0       None  \n",
       "1       None  \n",
       "2       None  \n",
       "3       None  "
      ]
     },
     "execution_count": 58,
     "metadata": {},
     "output_type": "execute_result"
    }
   ],
   "source": [
    "query_index = text(\"\"\"show indexes from `artist`;\"\"\")  \n",
    "df = get_df(query_index)\n",
    "df"
   ]
  },
  {
   "cell_type": "code",
   "execution_count": 49,
   "metadata": {},
   "outputs": [
    {
     "name": "stdout",
     "output_type": "stream",
     "text": [
      "Время выполнения запроса: 19.5386 секунд\n"
     ]
    }
   ],
   "source": [
    "query_indx_5= text(\"\"\"\n",
    "                    SELECT *\n",
    "                    FROM discogs.artist\n",
    "                    WHERE PROFILE LIKE '%рок%';\"\"\") \n",
    "get_query_db(query_indx_5)"
   ]
  },
  {
   "cell_type": "code",
   "execution_count": 55,
   "metadata": {},
   "outputs": [
    {
     "name": "stdout",
     "output_type": "stream",
     "text": [
      "Ошибка: Not an executable object: 'ALTER TABLE discogs.artist ADD FULLTEXT INDEX ft_profile (PROFILE);'\n"
     ]
    }
   ],
   "source": [
    "index_5 = \"\"\"ALTER TABLE discogs.artist ADD FULLTEXT INDEX ft_profile (PROFILE);\"\"\"\n",
    "\n",
    "get_query_db(index_5)"
   ]
  },
  {
   "cell_type": "code",
   "execution_count": 59,
   "metadata": {},
   "outputs": [
    {
     "name": "stdout",
     "output_type": "stream",
     "text": [
      "Время выполнения запроса: 0.1234 секунд\n"
     ]
    },
    {
     "data": {
      "text/html": [
       "<div>\n",
       "<style scoped>\n",
       "    .dataframe tbody tr th:only-of-type {\n",
       "        vertical-align: middle;\n",
       "    }\n",
       "\n",
       "    .dataframe tbody tr th {\n",
       "        vertical-align: top;\n",
       "    }\n",
       "\n",
       "    .dataframe thead th {\n",
       "        text-align: right;\n",
       "    }\n",
       "</style>\n",
       "<table border=\"1\" class=\"dataframe\">\n",
       "  <thead>\n",
       "    <tr style=\"text-align: right;\">\n",
       "      <th></th>\n",
       "      <th>ARTIST_ID</th>\n",
       "      <th>NAME</th>\n",
       "      <th>REALNAME</th>\n",
       "      <th>PROFILE</th>\n",
       "      <th>DATA_QUALITY</th>\n",
       "    </tr>\n",
       "  </thead>\n",
       "  <tbody>\n",
       "    <tr>\n",
       "      <th>0</th>\n",
       "      <td>4239166</td>\n",
       "      <td>Крекерс</td>\n",
       "      <td>Krekers</td>\n",
       "      <td>Группа Крекерс (Krekers) из Санкт-Петербурга —...</td>\n",
       "      <td>Needs Vote</td>\n",
       "    </tr>\n",
       "    <tr>\n",
       "      <th>1</th>\n",
       "      <td>5107995</td>\n",
       "      <td>Гоген</td>\n",
       "      <td></td>\n",
       "      <td>Группа \"Гоген\" образовалась весной 1988 года, ...</td>\n",
       "      <td>Needs Vote</td>\n",
       "    </tr>\n",
       "    <tr>\n",
       "      <th>2</th>\n",
       "      <td>472264</td>\n",
       "      <td>Тамбурин</td>\n",
       "      <td></td>\n",
       "      <td>Группу создал певец, композитор, аранжировщик,...</td>\n",
       "      <td>Needs Vote</td>\n",
       "    </tr>\n",
       "    <tr>\n",
       "      <th>3</th>\n",
       "      <td>1620685</td>\n",
       "      <td>Гласовете</td>\n",
       "      <td></td>\n",
       "      <td>Групата „ГЛАСОВЕТЕ”, (или както е популярно то...</td>\n",
       "      <td>Needs Vote</td>\n",
       "    </tr>\n",
       "    <tr>\n",
       "      <th>4</th>\n",
       "      <td>2350272</td>\n",
       "      <td>Анатолий Азанов</td>\n",
       "      <td></td>\n",
       "      <td>Photographer\\r\\rAnatoly Azanov was born on Jun...</td>\n",
       "      <td>Needs Vote</td>\n",
       "    </tr>\n",
       "    <tr>\n",
       "      <th>...</th>\n",
       "      <td>...</td>\n",
       "      <td>...</td>\n",
       "      <td>...</td>\n",
       "      <td>...</td>\n",
       "      <td>...</td>\n",
       "    </tr>\n",
       "    <tr>\n",
       "      <th>132</th>\n",
       "      <td>6900991</td>\n",
       "      <td>Vedic Social Empire</td>\n",
       "      <td>Ведическая социальная империя</td>\n",
       "      <td>Группа основана 21 декабря 2018 года Ампером А...</td>\n",
       "      <td>Needs Vote</td>\n",
       "    </tr>\n",
       "    <tr>\n",
       "      <th>133</th>\n",
       "      <td>6960465</td>\n",
       "      <td>Д.Н.О.</td>\n",
       "      <td></td>\n",
       "      <td>Д.Н.О. (aka D.N.O. aka DNO aka ДНО) is an alte...</td>\n",
       "      <td>Needs Vote</td>\n",
       "    </tr>\n",
       "    <tr>\n",
       "      <th>134</th>\n",
       "      <td>7166614</td>\n",
       "      <td>TIR (4)</td>\n",
       "      <td>True Industrial Romantic</td>\n",
       "      <td>Группа TIR, в состав которой входят вокалист М...</td>\n",
       "      <td>Needs Vote</td>\n",
       "    </tr>\n",
       "    <tr>\n",
       "      <th>135</th>\n",
       "      <td>7231392</td>\n",
       "      <td>Trappist System Trio</td>\n",
       "      <td></td>\n",
       "      <td>Прогрессив-рок трио TS3 образовано в мае 2017 ...</td>\n",
       "      <td>Needs Vote</td>\n",
       "    </tr>\n",
       "    <tr>\n",
       "      <th>136</th>\n",
       "      <td>7307063</td>\n",
       "      <td>Рвані Міхи</td>\n",
       "      <td></td>\n",
       "      <td>Oleg Sushko, Oleksandr Somov, Maxim Orel - Jaz...</td>\n",
       "      <td>Needs Vote</td>\n",
       "    </tr>\n",
       "  </tbody>\n",
       "</table>\n",
       "<p>137 rows × 5 columns</p>\n",
       "</div>"
      ],
      "text/plain": [
       "     ARTIST_ID                  NAME                       REALNAME  \\\n",
       "0      4239166               Крекерс                        Krekers   \n",
       "1      5107995                 Гоген                                  \n",
       "2       472264              Тамбурин                                  \n",
       "3      1620685             Гласовете                                  \n",
       "4      2350272       Анатолий Азанов                                  \n",
       "..         ...                   ...                            ...   \n",
       "132    6900991   Vedic Social Empire  Ведическая социальная империя   \n",
       "133    6960465                Д.Н.О.                                  \n",
       "134    7166614               TIR (4)       True Industrial Romantic   \n",
       "135    7231392  Trappist System Trio                                  \n",
       "136    7307063            Рвані Міхи                                  \n",
       "\n",
       "                                               PROFILE DATA_QUALITY  \n",
       "0    Группа Крекерс (Krekers) из Санкт-Петербурга —...   Needs Vote  \n",
       "1    Группа \"Гоген\" образовалась весной 1988 года, ...   Needs Vote  \n",
       "2    Группу создал певец, композитор, аранжировщик,...   Needs Vote  \n",
       "3    Групата „ГЛАСОВЕТЕ”, (или както е популярно то...   Needs Vote  \n",
       "4    Photographer\\r\\rAnatoly Azanov was born on Jun...   Needs Vote  \n",
       "..                                                 ...          ...  \n",
       "132  Группа основана 21 декабря 2018 года Ампером А...   Needs Vote  \n",
       "133  Д.Н.О. (aka D.N.O. aka DNO aka ДНО) is an alte...   Needs Vote  \n",
       "134  Группа TIR, в состав которой входят вокалист М...   Needs Vote  \n",
       "135  Прогрессив-рок трио TS3 образовано в мае 2017 ...   Needs Vote  \n",
       "136  Oleg Sushko, Oleksandr Somov, Maxim Orel - Jaz...   Needs Vote  \n",
       "\n",
       "[137 rows x 5 columns]"
      ]
     },
     "execution_count": 59,
     "metadata": {},
     "output_type": "execute_result"
    }
   ],
   "source": [
    "query_indx_5 = \"\"\"SELECT *\n",
    "    FROM discogs.artist\n",
    "    WHERE MATCH(PROFILE) AGAINST('рок' IN NATURAL LANGUAGE MODE);\"\"\"\n",
    "\n",
    "get_df(query_indx_5)"
   ]
  },
  {
   "cell_type": "code",
   "execution_count": 47,
   "metadata": {},
   "outputs": [
    {
     "name": "stdout",
     "output_type": "stream",
     "text": [
      "Время выполнения запроса: 0.1002 секунд\n"
     ]
    }
   ],
   "source": [
    "query = text(\"\"\"drop INDEX ft_profile ON `artist`\"\"\")\n",
    "df = get_query_db(query)"
   ]
  },
  {
   "cell_type": "markdown",
   "metadata": {},
   "source": [
    "-----------------------------"
   ]
  }
 ],
 "metadata": {
  "kernelspec": {
   "display_name": "Python 3",
   "language": "python",
   "name": "python3"
  },
  "language_info": {
   "codemirror_mode": {
    "name": "ipython",
    "version": 3
   },
   "file_extension": ".py",
   "mimetype": "text/x-python",
   "name": "python",
   "nbconvert_exporter": "python",
   "pygments_lexer": "ipython3",
   "version": "3.11.9"
  }
 },
 "nbformat": 4,
 "nbformat_minor": 2
}
